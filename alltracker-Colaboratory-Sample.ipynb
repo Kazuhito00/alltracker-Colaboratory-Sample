{
  "nbformat": 4,
  "nbformat_minor": 0,
  "metadata": {
    "colab": {
      "provenance": [],
      "machine_shape": "hm",
      "gpuType": "A100"
    },
    "kernelspec": {
      "name": "python3",
      "display_name": "Python 3"
    },
    "language_info": {
      "name": "python"
    },
    "accelerator": "GPU"
  },
  "cells": [
    {
      "cell_type": "markdown",
      "source": [
        "A100 GPU必須"
      ],
      "metadata": {
        "id": "PWHQaZ2HWmVr"
      }
    },
    {
      "cell_type": "markdown",
      "source": [
        "# リポジトリクローン"
      ],
      "metadata": {
        "id": "CMz5UPGKWmRK"
      }
    },
    {
      "cell_type": "code",
      "execution_count": null,
      "metadata": {
        "id": "1L_SZNpTFVlo"
      },
      "outputs": [],
      "source": [
        "!git clone https://github.com/aharley/alltracker"
      ]
    },
    {
      "cell_type": "code",
      "source": [
        "%cd /content/alltracker"
      ],
      "metadata": {
        "id": "WvN_0PRRLQej"
      },
      "execution_count": null,
      "outputs": []
    },
    {
      "cell_type": "markdown",
      "source": [
        "# 重みダウンロード"
      ],
      "metadata": {
        "id": "G0aypYYgWrdw"
      }
    },
    {
      "cell_type": "code",
      "source": [
        "!source download_reference_model.sh\n",
        "!tar -xvf alltracker_reference.tar.gz"
      ],
      "metadata": {
        "id": "2jnn5cOfLTVz"
      },
      "execution_count": null,
      "outputs": []
    },
    {
      "cell_type": "markdown",
      "source": [
        "# デモ動画ダウンロード"
      ],
      "metadata": {
        "id": "ghonhTUyWt_8"
      }
    },
    {
      "cell_type": "code",
      "source": [
        "%cd demo_video\n",
        "!source download_video.sh\n",
        "%cd .."
      ],
      "metadata": {
        "id": "OUoEAM7yLe76"
      },
      "execution_count": null,
      "outputs": []
    },
    {
      "cell_type": "code",
      "source": [
        "!wget https://github.com/Kazuhito00/alltracker-Colaboratory-Sample/raw/refs/heads/main/D0002030252_00000_V_000.mp4 -O demo.mp4"
      ],
      "metadata": {
        "id": "bcK9bcM9OTBQ"
      },
      "execution_count": null,
      "outputs": []
    },
    {
      "cell_type": "markdown",
      "source": [
        "# 推論"
      ],
      "metadata": {
        "id": "jBAQnWAfWw-c"
      }
    },
    {
      "cell_type": "code",
      "source": [
        "!python demo.py --ckpt_init checkpoints/reference_model/model-000600000.pth"
      ],
      "metadata": {
        "id": "tcTPSu5pL2bp"
      },
      "execution_count": null,
      "outputs": []
    },
    {
      "cell_type": "code",
      "source": [
        "!python demo.py --ckpt_init checkpoints/reference_model/model-000600000.pth --mp4_path demo.mp4"
      ],
      "metadata": {
        "id": "Tk_R45dfWzlI"
      },
      "execution_count": null,
      "outputs": []
    }
  ]
}