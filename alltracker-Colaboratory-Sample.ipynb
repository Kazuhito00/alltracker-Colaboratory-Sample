{
  "nbformat": 4,
  "nbformat_minor": 0,
  "metadata": {
    "colab": {
      "provenance": [],
      "machine_shape": "hm",
      "gpuType": "A100"
    },
    "kernelspec": {
      "name": "python3",
      "display_name": "Python 3"
    },
    "language_info": {
      "name": "python"
    },
    "accelerator": "GPU"
  },
  "cells": [
    {
      "cell_type": "markdown",
      "source": [
        "A100 GPU必須"
      ],
      "metadata": {
        "id": "PWHQaZ2HWmVr"
      }
    },
    {
      "cell_type": "markdown",
      "source": [
        "# リポジトリクローン"
      ],
      "metadata": {
        "id": "CMz5UPGKWmRK"
      }
    },
    {
      "cell_type": "code",
      "execution_count": 1,
      "metadata": {
        "colab": {
          "base_uri": "https://localhost:8080/"
        },
        "id": "1L_SZNpTFVlo",
        "outputId": "4623b1b1-f363-495f-dd40-d13881189375"
      },
      "outputs": [
        {
          "output_type": "stream",
          "name": "stdout",
          "text": [
            "Cloning into 'alltracker'...\n",
            "remote: Enumerating objects: 96, done.\u001b[K\n",
            "remote: Counting objects: 100% (96/96), done.\u001b[K\n",
            "remote: Compressing objects: 100% (67/67), done.\u001b[K\n",
            "remote: Total 96 (delta 45), reused 77 (delta 26), pack-reused 0 (from 0)\u001b[K\n",
            "Receiving objects: 100% (96/96), 206.40 KiB | 2.68 MiB/s, done.\n",
            "Resolving deltas: 100% (45/45), done.\n"
          ]
        }
      ],
      "source": [
        "!git clone https://github.com/aharley/alltracker"
      ]
    },
    {
      "cell_type": "code",
      "source": [
        "%cd /content/alltracker"
      ],
      "metadata": {
        "colab": {
          "base_uri": "https://localhost:8080/"
        },
        "id": "WvN_0PRRLQej",
        "outputId": "c89dbea8-6e30-4947-8e00-72b01fc20f63"
      },
      "execution_count": 2,
      "outputs": [
        {
          "output_type": "stream",
          "name": "stdout",
          "text": [
            "/content/alltracker\n"
          ]
        }
      ]
    },
    {
      "cell_type": "markdown",
      "source": [
        "# 重みダウンロード"
      ],
      "metadata": {
        "id": "G0aypYYgWrdw"
      }
    },
    {
      "cell_type": "code",
      "source": [
        "!source download_reference_model.sh\n",
        "!tar -xvf alltracker_reference.tar.gz"
      ],
      "metadata": {
        "colab": {
          "base_uri": "https://localhost:8080/"
        },
        "id": "2jnn5cOfLTVz",
        "outputId": "3606ef1b-b813-411e-b658-239ab20b8163"
      },
      "execution_count": 3,
      "outputs": [
        {
          "output_type": "stream",
          "name": "stdout",
          "text": [
            "downloading alltracker_reference.tar.gz from dropbox\n",
            "--2025-06-22 06:40:44--  https://www.dropbox.com/scl/fi/ng66ceortfy07bgie3r54/alltracker_reference.tar.gz?rlkey=o781im2v0sl7035hy8fcuv1d5\n",
            "Resolving www.dropbox.com (www.dropbox.com)... 162.125.3.18, 2620:100:6018:18::a27d:312\n",
            "Connecting to www.dropbox.com (www.dropbox.com)|162.125.3.18|:443... connected.\n",
            "HTTP request sent, awaiting response... 302 Found\n",
            "Location: https://uccaa775787e7c1da05b796017ae.dl.dropboxusercontent.com/cd/0/inline/CsG0T4PdF_kJGIJ3DUpnRq6oMI2xtJK2vpCfiSU76SFbEFzxB-o0rLb918aBgxHgvfNR6Pw4x4mC0_aKatnLAtji2Wgi6eHp2NG3qr7KWFZsSxcgXQnkqXEU7KRX5wntnAk/file# [following]\n",
            "--2025-06-22 06:40:44--  https://uccaa775787e7c1da05b796017ae.dl.dropboxusercontent.com/cd/0/inline/CsG0T4PdF_kJGIJ3DUpnRq6oMI2xtJK2vpCfiSU76SFbEFzxB-o0rLb918aBgxHgvfNR6Pw4x4mC0_aKatnLAtji2Wgi6eHp2NG3qr7KWFZsSxcgXQnkqXEU7KRX5wntnAk/file\n",
            "Resolving uccaa775787e7c1da05b796017ae.dl.dropboxusercontent.com (uccaa775787e7c1da05b796017ae.dl.dropboxusercontent.com)... 162.125.3.15, 2620:100:601c:15::a27d:60f\n",
            "Connecting to uccaa775787e7c1da05b796017ae.dl.dropboxusercontent.com (uccaa775787e7c1da05b796017ae.dl.dropboxusercontent.com)|162.125.3.15|:443... connected.\n",
            "HTTP request sent, awaiting response... 302 Found\n",
            "Location: /cd/0/inline2/CsFWr7AxpyOa5cR-7ypNLmncrSsuDDyBr3ReL8cNPE8RjswLmzEI1ZjlT4wLYwnfIDLHXDf7EIsDyHJjzz36zzX1K01DYr9STvVUNL9wfjAD1B4ighXue5Eg3bvl8ibZmQifSCZVRC7FltC-PhzOz_T_qVE-NdsQggW4S7Rnln0-ZYzJB9OAJ8GlKBKdHYxjvFZJJASDbQlROV-3pqeWNCz9y7N4CowNC4fUDVoP2lE36CDtL9fZwBoc6W74jfw8ZWw43_b42yXQG7o0uR__RjxTeCNFWK81tfCBeqUqRnhfwngIrxoT136AWiIxyMpLcFCL1ZCnNEDPfqUhmmfWFxDFEzl5Ak54eZ29iWkR72M5FA/file [following]\n",
            "--2025-06-22 06:40:45--  https://uccaa775787e7c1da05b796017ae.dl.dropboxusercontent.com/cd/0/inline2/CsFWr7AxpyOa5cR-7ypNLmncrSsuDDyBr3ReL8cNPE8RjswLmzEI1ZjlT4wLYwnfIDLHXDf7EIsDyHJjzz36zzX1K01DYr9STvVUNL9wfjAD1B4ighXue5Eg3bvl8ibZmQifSCZVRC7FltC-PhzOz_T_qVE-NdsQggW4S7Rnln0-ZYzJB9OAJ8GlKBKdHYxjvFZJJASDbQlROV-3pqeWNCz9y7N4CowNC4fUDVoP2lE36CDtL9fZwBoc6W74jfw8ZWw43_b42yXQG7o0uR__RjxTeCNFWK81tfCBeqUqRnhfwngIrxoT136AWiIxyMpLcFCL1ZCnNEDPfqUhmmfWFxDFEzl5Ak54eZ29iWkR72M5FA/file\n",
            "Reusing existing connection to uccaa775787e7c1da05b796017ae.dl.dropboxusercontent.com:443.\n",
            "HTTP request sent, awaiting response... 200 OK\n",
            "Length: 61274770 (58M) [application/octet-stream]\n",
            "Saving to: ‘alltracker_reference.tar.gz’\n",
            "\n",
            "alltracker_referenc 100%[===================>]  58.44M  47.5MB/s    in 1.2s    \n",
            "\n",
            "2025-06-22 06:40:47 (47.5 MB/s) - ‘alltracker_reference.tar.gz’ saved [61274770/61274770]\n",
            "\n",
            "checkpoints/reference_model/\n",
            "checkpoints/reference_model/model-000600000.pth\n"
          ]
        }
      ]
    },
    {
      "cell_type": "markdown",
      "source": [
        "# デモ動画ダウンロード"
      ],
      "metadata": {
        "id": "ghonhTUyWt_8"
      }
    },
    {
      "cell_type": "code",
      "source": [
        "%cd demo_video\n",
        "!source download_video.sh\n",
        "%cd .."
      ],
      "metadata": {
        "colab": {
          "base_uri": "https://localhost:8080/"
        },
        "id": "OUoEAM7yLe76",
        "outputId": "5b16a18b-b7a2-4178-9f65-8eb41fe11dcc"
      },
      "execution_count": 4,
      "outputs": [
        {
          "output_type": "stream",
          "name": "stdout",
          "text": [
            "/content/alltracker/demo_video\n",
            "downloading monkey.mp4 from dropbox\n",
            "--2025-06-22 06:40:48--  https://www.dropbox.com/scl/fi/fm2m3ylhzmqae05bzwm8q/monkey.mp4?rlkey=ibf81gaqpxkh334rccu7zrioe\n",
            "Resolving www.dropbox.com (www.dropbox.com)... 162.125.3.18, 2620:100:6018:18::a27d:312\n",
            "Connecting to www.dropbox.com (www.dropbox.com)|162.125.3.18|:443... connected.\n",
            "HTTP request sent, awaiting response... 302 Found\n",
            "Location: https://uca4bb240d8a717b74ca33184d08.dl.dropboxusercontent.com/cd/0/inline/CsGPCKwAttg_t5efeF7UY7NX0JQjAhqLNAnFOYCQkYT-Lx0XOW-Qce2V8Nn6ujKOJGHC2pYDRXoG__eyDMKhzZN4zMKRbcDCO0qGxhweh3xCzn7dTuGgyJlguiD2FAy9J8Q/file# [following]\n",
            "--2025-06-22 06:40:48--  https://uca4bb240d8a717b74ca33184d08.dl.dropboxusercontent.com/cd/0/inline/CsGPCKwAttg_t5efeF7UY7NX0JQjAhqLNAnFOYCQkYT-Lx0XOW-Qce2V8Nn6ujKOJGHC2pYDRXoG__eyDMKhzZN4zMKRbcDCO0qGxhweh3xCzn7dTuGgyJlguiD2FAy9J8Q/file\n",
            "Resolving uca4bb240d8a717b74ca33184d08.dl.dropboxusercontent.com (uca4bb240d8a717b74ca33184d08.dl.dropboxusercontent.com)... 162.125.3.15, 2620:100:601c:15::a27d:60f\n",
            "Connecting to uca4bb240d8a717b74ca33184d08.dl.dropboxusercontent.com (uca4bb240d8a717b74ca33184d08.dl.dropboxusercontent.com)|162.125.3.15|:443... connected.\n",
            "HTTP request sent, awaiting response... 200 OK\n",
            "Length: 9427946 (9.0M) [video/mp4]\n",
            "Saving to: ‘monkey.mp4’\n",
            "\n",
            "monkey.mp4          100%[===================>]   8.99M  --.-KB/s    in 0.1s    \n",
            "\n",
            "2025-06-22 06:40:48 (80.8 MB/s) - ‘monkey.mp4’ saved [9427946/9427946]\n",
            "\n",
            "/content/alltracker\n"
          ]
        }
      ]
    },
    {
      "cell_type": "code",
      "source": [
        "!wget https://www.nhk.or.jp/das/movie/D0002030/D0002030252_00000_V_000.mp4 -O demo.mp4"
      ],
      "metadata": {
        "colab": {
          "base_uri": "https://localhost:8080/"
        },
        "id": "bcK9bcM9OTBQ",
        "outputId": "10fdbe85-ca8e-4a48-c6c1-c2e1c6a198e4"
      },
      "execution_count": 5,
      "outputs": [
        {
          "output_type": "stream",
          "name": "stdout",
          "text": [
            "--2025-06-22 06:40:48--  https://www.nhk.or.jp/das/movie/D0002030/D0002030252_00000_V_000.mp4\n",
            "Resolving www.nhk.or.jp (www.nhk.or.jp)... 184.31.100.228\n",
            "Connecting to www.nhk.or.jp (www.nhk.or.jp)|184.31.100.228|:443... connected.\n",
            "HTTP request sent, awaiting response... 200 OK\n",
            "Length: 16223052 (15M) [video/mp4]\n",
            "Saving to: ‘demo.mp4’\n",
            "\n",
            "demo.mp4            100%[===================>]  15.47M  17.3MB/s    in 0.9s    \n",
            "\n",
            "2025-06-22 06:40:50 (17.3 MB/s) - ‘demo.mp4’ saved [16223052/16223052]\n",
            "\n"
          ]
        }
      ]
    },
    {
      "cell_type": "markdown",
      "source": [
        "# 推論"
      ],
      "metadata": {
        "id": "jBAQnWAfWw-c"
      }
    },
    {
      "cell_type": "code",
      "source": [
        "!python demo.py --ckpt_init checkpoints/reference_model/model-000600000.pth"
      ],
      "metadata": {
        "colab": {
          "base_uri": "https://localhost:8080/"
        },
        "id": "tcTPSu5pL2bp",
        "outputId": "8a31d2ad-8ca5-45c0-f67e-b4d7185c389c"
      },
      "execution_count": 6,
      "outputs": [
        {
          "output_type": "stream",
          "name": "stdout",
          "text": [
            "Downloading: \"https://download.pytorch.org/models/convnext_tiny-983f1562.pth\" to /root/.cache/torch/hub/checkpoints/convnext_tiny-983f1562.pth\n",
            "100% 109M/109M [00:00<00:00, 196MB/s] \n",
            "+-------------------------------------------+------------+\n",
            "|                  Modules                  | Parameters |\n",
            "+-------------------------------------------+------------+\n",
            "|      cnn.features.3.0.block.3.weight      |   147456   |\n",
            "|      cnn.features.3.0.block.5.weight      |   147456   |\n",
            "|      cnn.features.3.1.block.3.weight      |   147456   |\n",
            "|      cnn.features.3.1.block.5.weight      |   147456   |\n",
            "|      cnn.features.3.2.block.3.weight      |   147456   |\n",
            "|      cnn.features.3.2.block.5.weight      |   147456   |\n",
            "|          cnn.features.4.1.weight          |   663552   |\n",
            "|      cnn.features.5.0.block.3.weight      |   589824   |\n",
            "|      cnn.features.5.0.block.5.weight      |   589824   |\n",
            "|      cnn.features.5.1.block.3.weight      |   589824   |\n",
            "|      cnn.features.5.1.block.5.weight      |   589824   |\n",
            "|      cnn.features.5.2.block.3.weight      |   589824   |\n",
            "|      cnn.features.5.2.block.5.weight      |   589824   |\n",
            "|      cnn.features.5.3.block.3.weight      |   589824   |\n",
            "|      cnn.features.5.3.block.5.weight      |   589824   |\n",
            "|      cnn.features.5.4.block.3.weight      |   589824   |\n",
            "|      cnn.features.5.4.block.5.weight      |   589824   |\n",
            "|      cnn.features.5.5.block.3.weight      |   589824   |\n",
            "|      cnn.features.5.5.block.5.weight      |   589824   |\n",
            "|      cnn.features.5.6.block.3.weight      |   589824   |\n",
            "|      cnn.features.5.6.block.5.weight      |   589824   |\n",
            "|      cnn.features.5.7.block.3.weight      |   589824   |\n",
            "|      cnn.features.5.7.block.5.weight      |   589824   |\n",
            "|      cnn.features.5.8.block.3.weight      |   589824   |\n",
            "|      cnn.features.5.8.block.5.weight      |   589824   |\n",
            "|          upsample_weight.0.weight         |   294912   |\n",
            "|          upsample_weight.2.weight         |   147456   |\n",
            "|             flow_head.0.weight            |   294912   |\n",
            "|           visconf_head.0.weight           |   294912   |\n",
            "| update_block.motion_encoder.convc1.weight |   207360   |\n",
            "| update_block.motion_encoder.convc2.weight |   884736   |\n",
            "| update_block.motion_encoder.convf2.weight |   147456   |\n",
            "|  update_block.motion_encoder.conv.weight  |   290304   |\n",
            "+-------------------------------------------+------------+\n",
            "total params: 16.48 M\n",
            "...found checkpoint checkpoints/reference_model/model-000600000.pth\n",
            "loaded weights from checkpoints/reference_model/model-000600000.pth\n",
            "rgbs[0] (1920, 1080, 3)\n",
            "rgbs[0] (1024, 576, 3)\n",
            "rgbs torch.Size([1, 287, 3, 1024, 576])\n",
            "starting forward...\n",
            "/usr/local/lib/python3.11/dist-packages/torch/functional.py:539: UserWarning: torch.meshgrid: in an upcoming release, it will be required to pass the indexing argument. (Triggered internally at /pytorch/aten/src/ATen/native/TensorShape.cpp:3637.)\n",
            "  return _VF.meshgrid(tensors, **kwargs)  # type: ignore[attr-defined]\n",
            "finished forward; 20.52 seconds / 287 frames; 14 fps\n",
            "traj_maps_e (float32) min = -20.50, mean = 393.00, max = 1040.11 torch.Size([1, 287, 2, 1024, 576])\n",
            "visconf_maps_e (float32) min = 0.00, mean = 0.81, max = 1.00 torch.Size([1, 287, 2, 1024, 576])\n",
            "trajs_e torch.Size([1, 287, 36864, 2])\n",
            "rgb_out_f ./pt_vis_monkey_rate4.mp4\n"
          ]
        }
      ]
    },
    {
      "cell_type": "code",
      "source": [
        "!python demo.py --ckpt_init checkpoints/reference_model/model-000600000.pth --mp4_path demo.mp4"
      ],
      "metadata": {
        "colab": {
          "base_uri": "https://localhost:8080/"
        },
        "id": "Tk_R45dfWzlI",
        "outputId": "8d61b0c8-fbf5-4054-999d-dacea1ff3413"
      },
      "execution_count": 7,
      "outputs": [
        {
          "output_type": "stream",
          "name": "stdout",
          "text": [
            "+-------------------------------------------+------------+\n",
            "|                  Modules                  | Parameters |\n",
            "+-------------------------------------------+------------+\n",
            "|      cnn.features.3.0.block.3.weight      |   147456   |\n",
            "|      cnn.features.3.0.block.5.weight      |   147456   |\n",
            "|      cnn.features.3.1.block.3.weight      |   147456   |\n",
            "|      cnn.features.3.1.block.5.weight      |   147456   |\n",
            "|      cnn.features.3.2.block.3.weight      |   147456   |\n",
            "|      cnn.features.3.2.block.5.weight      |   147456   |\n",
            "|          cnn.features.4.1.weight          |   663552   |\n",
            "|      cnn.features.5.0.block.3.weight      |   589824   |\n",
            "|      cnn.features.5.0.block.5.weight      |   589824   |\n",
            "|      cnn.features.5.1.block.3.weight      |   589824   |\n",
            "|      cnn.features.5.1.block.5.weight      |   589824   |\n",
            "|      cnn.features.5.2.block.3.weight      |   589824   |\n",
            "|      cnn.features.5.2.block.5.weight      |   589824   |\n",
            "|      cnn.features.5.3.block.3.weight      |   589824   |\n",
            "|      cnn.features.5.3.block.5.weight      |   589824   |\n",
            "|      cnn.features.5.4.block.3.weight      |   589824   |\n",
            "|      cnn.features.5.4.block.5.weight      |   589824   |\n",
            "|      cnn.features.5.5.block.3.weight      |   589824   |\n",
            "|      cnn.features.5.5.block.5.weight      |   589824   |\n",
            "|      cnn.features.5.6.block.3.weight      |   589824   |\n",
            "|      cnn.features.5.6.block.5.weight      |   589824   |\n",
            "|      cnn.features.5.7.block.3.weight      |   589824   |\n",
            "|      cnn.features.5.7.block.5.weight      |   589824   |\n",
            "|      cnn.features.5.8.block.3.weight      |   589824   |\n",
            "|      cnn.features.5.8.block.5.weight      |   589824   |\n",
            "|          upsample_weight.0.weight         |   294912   |\n",
            "|          upsample_weight.2.weight         |   147456   |\n",
            "|             flow_head.0.weight            |   294912   |\n",
            "|           visconf_head.0.weight           |   294912   |\n",
            "| update_block.motion_encoder.convc1.weight |   207360   |\n",
            "| update_block.motion_encoder.convc2.weight |   884736   |\n",
            "| update_block.motion_encoder.convf2.weight |   147456   |\n",
            "|  update_block.motion_encoder.conv.weight  |   290304   |\n",
            "+-------------------------------------------+------------+\n",
            "total params: 16.48 M\n",
            "...found checkpoint checkpoints/reference_model/model-000600000.pth\n",
            "loaded weights from checkpoints/reference_model/model-000600000.pth\n",
            "rgbs[0] (720, 1280, 3)\n",
            "rgbs[0] (576, 1024, 3)\n",
            "rgbs torch.Size([1, 400, 3, 576, 1024])\n",
            "starting forward...\n",
            "/usr/local/lib/python3.11/dist-packages/torch/functional.py:539: UserWarning: torch.meshgrid: in an upcoming release, it will be required to pass the indexing argument. (Triggered internally at /pytorch/aten/src/ATen/native/TensorShape.cpp:3637.)\n",
            "  return _VF.meshgrid(tensors, **kwargs)  # type: ignore[attr-defined]\n",
            "finished forward; 27.03 seconds / 400 frames; 15 fps\n",
            "traj_maps_e (float32) min = -189.89, mean = 490.55, max = 1144.42 torch.Size([1, 400, 2, 576, 1024])\n",
            "visconf_maps_e (float32) min = 0.00, mean = 0.56, max = 1.00 torch.Size([1, 400, 2, 576, 1024])\n",
            "trajs_e torch.Size([1, 400, 36864, 2])\n",
            "rgb_out_f ./pt_vis_demo_rate4.mp4\n"
          ]
        }
      ]
    }
  ]
}